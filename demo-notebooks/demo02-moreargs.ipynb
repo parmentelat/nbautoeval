{
 "cells": [
  {
   "cell_type": "markdown",
   "metadata": {},
   "source": [
    "<span style=\"float:left;\">Licence CC BY-NC-ND</span><span style=\"float:right;\">Thierry Parmentelat&nbsp;<img src=\"../media/inria-25.png\" style=\"display:inline\"></span><br/>"
   ]
  },
  {
   "cell_type": "code",
   "execution_count": null,
   "metadata": {},
   "outputs": [],
   "source": [
    "# just so that it runs smoothly under binder\n",
    "import sys\n",
    "sys.path.append(\"..\")"
   ]
  },
  {
   "cell_type": "markdown",
   "metadata": {},
   "source": [
    "# Functions with more arguments"
   ]
  },
  {
   "cell_type": "markdown",
   "metadata": {},
   "source": [
    "## The `Args` object"
   ]
  },
  {
   "cell_type": "markdown",
   "metadata": {},
   "source": [
    "The framework of course supports function calls with a higher number of arguments, including the `*args` and `**keywords` argument passing mechanisms.\n",
    "\n",
    "It is the purpose of the `Args` class to describe these details. Bear in mind that each instance of `Args` will eventually result in one function call."
   ]
  },
  {
   "cell_type": "markdown",
   "metadata": {},
   "source": [
    "You simply build one `Args` instance with the arguments you want to see passed to the function. This supports named arguments as well, and so\n",
    "\n",
    "    Args(1, 2)\n",
    "\n",
    "will result in the functions (either student- or teacher-provided) being called like this\n",
    " \n",
    "    foo(1, 2)\n",
    "    \n",
    "and of course similarly \n",
    "\n",
    "    Args(1, 2, 3, z=4)\n",
    "    \n",
    "will trigger\n",
    "\n",
    "    foo(1, 2, 3, z=4)"
   ]
  },
  {
   "cell_type": "code",
   "execution_count": null,
   "metadata": {},
   "outputs": [],
   "source": [
    "## Variable number of args"
   ]
  },
  {
   "cell_type": "code",
   "execution_count": null,
   "metadata": {},
   "outputs": [],
   "source": [
    "from nbautoeval.exercise_function import ExerciseFunction\n",
    "from nbautoeval.args import Args "
   ]
  },
  {
   "cell_type": "markdown",
   "metadata": {},
   "source": [
    "If your function accepts a variable number of arguments, it does not matter that much&nbsp;:"
   ]
  },
  {
   "cell_type": "code",
   "execution_count": null,
   "metadata": {},
   "outputs": [],
   "source": [
    "def foo3(a, b, c=10):\n",
    "    return f\"a={a} b={b} c={c}\"\n",
    "\n",
    "foo3_inputs = [\n",
    "    Args(1, 2, 3),\n",
    "    Args(4, 5),\n",
    "]\n",
    "\n",
    "exo_foo3 = ExerciseFunction(foo3, foo3_inputs, nb_examples=0)\n",
    "\n",
    "exo_foo3.example()"
   ]
  },
  {
   "cell_type": "markdown",
   "metadata": {},
   "source": [
    "### Named args"
   ]
  },
  {
   "cell_type": "markdown",
   "metadata": {},
   "source": [
    "Nothing changes if now the function to be written can handle named arguments. Let's see this on an example&nbsp;:"
   ]
  },
  {
   "cell_type": "code",
   "execution_count": null,
   "metadata": {},
   "outputs": [],
   "source": [
    "def anyfun(a, b, *args, **keywords):\n",
    "    # always show 2 mandatory args first\n",
    "    result = f\"a={a}, b={b}\"\n",
    "    # if more un-named args are passed\n",
    "    for i, arg in enumerate(args):\n",
    "        result += f\" + u{i+3}->{arg}\"\n",
    "    for k, v in keywords.items():\n",
    "        result += f\" & {k} -> {v}\"\n",
    "    return result"
   ]
  },
  {
   "cell_type": "code",
   "execution_count": null,
   "metadata": {},
   "outputs": [],
   "source": [
    "# let's first grasp what this function does\n",
    "anyfun(1, 2, 3, 4, foo='foo')"
   ]
  },
  {
   "cell_type": "markdown",
   "metadata": {},
   "source": [
    "Now we can define an exercise that calls this function 3 times with a variety of argument sets"
   ]
  },
  {
   "cell_type": "code",
   "execution_count": null,
   "metadata": {},
   "outputs": [],
   "source": [
    "anyfun_inputs = [\n",
    "    Args(1, 2, tutu='tutu'),\n",
    "]\n",
    "\n",
    "exo_anyfun = ExerciseFunction(anyfun, anyfun_inputs, nb_examples=0)\n",
    "\n",
    "exo_anyfun.example()"
   ]
  },
  {
   "cell_type": "markdown",
   "metadata": {},
   "source": [
    "## Example"
   ]
  },
  {
   "cell_type": "markdown",
   "metadata": {},
   "source": [
    "Students are requested to write a function \n",
    "\n",
    "$ curve (a, b, c) \\Longrightarrow a^2 + 3ab + c $\n",
    "\n",
    "with $c$ defaulting to 12."
   ]
  },
  {
   "cell_type": "code",
   "execution_count": null,
   "metadata": {},
   "outputs": [],
   "source": [
    "from exercises.curve import exo_curve"
   ]
  },
  {
   "cell_type": "code",
   "execution_count": null,
   "metadata": {},
   "outputs": [],
   "source": [
    "exo_curve.example(2)"
   ]
  },
  {
   "cell_type": "code",
   "execution_count": null,
   "metadata": {},
   "outputs": [],
   "source": [
    "# write your solution here\n",
    "def curve (a, b, c=12):\n",
    "    return \"<...>\""
   ]
  },
  {
   "cell_type": "markdown",
   "metadata": {},
   "source": [
    "Imagine she comes up with this - broken on purpose - solution&nbsp;:"
   ]
  },
  {
   "cell_type": "code",
   "execution_count": null,
   "metadata": {},
   "outputs": [],
   "source": [
    "# the student's - broken - proposal\n",
    "def curve (a, b, c=12):\n",
    "    return a ** 2 + 3 * a * b + 12 if (a+b)%4 != 0 else False"
   ]
  },
  {
   "cell_type": "code",
   "execution_count": null,
   "metadata": {},
   "outputs": [],
   "source": [
    "exo_curve.correction(curve)"
   ]
  },
  {
   "cell_type": "markdown",
   "metadata": {},
   "source": [
    "## Corresponding python code"
   ]
  },
  {
   "cell_type": "code",
   "execution_count": null,
   "metadata": {},
   "outputs": [],
   "source": [
    "%cat ../exercises/curve.py"
   ]
  }
 ],
 "metadata": {
  "kernelspec": {
   "display_name": "Python 3",
   "language": "python",
   "name": "python3"
  },
  "language_info": {
   "codemirror_mode": {
    "name": "ipython",
    "version": 3
   },
   "file_extension": ".py",
   "mimetype": "text/x-python",
   "name": "python",
   "nbconvert_exporter": "python",
   "pygments_lexer": "ipython3",
   "version": "3.7.3"
  },
  "notebookname": "Functions with more arguments",
  "version": "1.0"
 },
 "nbformat": 4,
 "nbformat_minor": 1
}
