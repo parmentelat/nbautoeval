{
 "cells": [
  {
   "cell_type": "markdown",
   "metadata": {},
   "source": [
    "<span style=\"float:left;\">Licence CC BY-NC-ND</span><span style=\"float:right;\">Thierry Parmentelat&nbsp;<img src=\"../media/inria-25.png\" style=\"display:inline\"></span><br/>"
   ]
  },
  {
   "cell_type": "markdown",
   "metadata": {},
   "source": [
    "# class-based exercises"
   ]
  },
  {
   "cell_type": "code",
   "execution_count": null,
   "metadata": {},
   "outputs": [],
   "source": [
    "# just so that it runs smoothly under binder\n",
    "import sys\n",
    "sys.path.append(\"..\")"
   ]
  },
  {
   "cell_type": "markdown",
   "metadata": {},
   "source": [
    "**Note** that this notebook runs python3"
   ]
  },
  {
   "cell_type": "markdown",
   "metadata": {},
   "source": [
    "## a FIFO"
   ]
  },
  {
   "cell_type": "markdown",
   "metadata": {},
   "source": [
    "This section demonstrates how to run a simple (expressions-only) class scenario.\n",
    "Next section introduces the notion of statements-oriented scenariis, useful typically to deal with properties."
   ]
  },
  {
   "cell_type": "markdown",
   "metadata": {},
   "source": [
    "### Assignment"
   ]
  },
  {
   "cell_type": "markdown",
   "metadata": {},
   "source": [
    "Students are requested to write a `Fifo` class, that implements\n",
    "* a constructor `Fifo()`\n",
    "* an `incoming(obj)` method\n",
    "* an `outgoing()` method\n",
    "\n",
    "that just returns the elements in the same order as they were stored."
   ]
  },
  {
   "cell_type": "markdown",
   "metadata": {},
   "source": [
    "### Workflow"
   ]
  },
  {
   "cell_type": "code",
   "execution_count": null,
   "metadata": {},
   "outputs": [],
   "source": [
    "from exercises.fifoclass import exo_fifo\n",
    "exo_fifo.example()"
   ]
  },
  {
   "cell_type": "markdown",
   "metadata": {},
   "source": [
    "Students are then invited to write their code in a cell that initially could look like this&nbsp;:"
   ]
  },
  {
   "cell_type": "code",
   "execution_count": null,
   "metadata": {},
   "outputs": [],
   "source": [
    "# write your code in this cell\n",
    "class Fifo:\n",
    "    def __init__(self):\n",
    "        pass\n",
    "    def __len__(self):\n",
    "        pass\n",
    "    def incoming(self, obj):\n",
    "        pass\n",
    "    def outgoing(self):\n",
    "        pass"
   ]
  },
  {
   "cell_type": "markdown",
   "metadata": {},
   "source": [
    "Then she changes it, let's imagine the outcome is this attempt - which is broken on purpose&nbsp;:"
   ]
  },
  {
   "cell_type": "code",
   "execution_count": null,
   "metadata": {},
   "outputs": [],
   "source": [
    "# code is BROKEN ON PURPOSE\n",
    "\n",
    "# write your code in this cell\n",
    "class Fifo:\n",
    "    def __init__(self):\n",
    "        self.items = []\n",
    "    def incoming(self, obj):\n",
    "        self.items.append(obj)\n",
    "    def outgoing(self):\n",
    "        if len(self.items)%2 == 0:\n",
    "            raise Exception(f\"even length ->{self.items.pop()}\")\n",
    "        return self.items.pop()\n",
    "    # optioinal for debugging\n",
    "    def __repr__(self):\n",
    "        contents = \" \".join(repr(item) for item in self.items)\n",
    "        return f\"<StudentFifo [{contents}]>\""
   ]
  },
  {
   "cell_type": "markdown",
   "metadata": {},
   "source": [
    "Then she can evaluate this correction cell"
   ]
  },
  {
   "cell_type": "code",
   "execution_count": null,
   "metadata": {},
   "outputs": [],
   "source": [
    "exo_fifo.correction(Fifo)"
   ]
  },
  {
   "cell_type": "markdown",
   "metadata": {},
   "source": [
    "*********"
   ]
  },
  {
   "cell_type": "markdown",
   "metadata": {},
   "source": [
    "### Under the hood"
   ]
  },
  {
   "cell_type": "markdown",
   "metadata": {},
   "source": [
    "As always, the python code here can be seen below;\n",
    "\n",
    "note that ClassScenario objects:\n",
    "* need a first mandatory `Args` parameter that specifies how to create the witness object\n",
    "* and then any number of expressions to evaluate - generally on that object\n",
    "* these expressions can be either `str` objects, or a `nbautoeval.ClassStep` object (itself created from a `str` object)\n",
    "* in this code :\n",
    "  * `INSTANCE` is replaced with the witness object, and\n",
    "  * `CLASS` is replaced with the class object under test"
   ]
  },
  {
   "cell_type": "code",
   "execution_count": null,
   "metadata": {},
   "outputs": [],
   "source": [
    "%cat ../exercises/fifoclass.py"
   ]
  },
  {
   "cell_type": "markdown",
   "metadata": {},
   "source": [
    "## a property-based class"
   ]
  },
  {
   "cell_type": "code",
   "execution_count": null,
   "metadata": {},
   "outputs": [],
   "source": []
  }
 ],
 "metadata": {
  "kernelspec": {
   "display_name": "Python 3",
   "language": "python",
   "name": "python3"
  },
  "language_info": {
   "codemirror_mode": {
    "name": "ipython",
    "version": 3
   },
   "file_extension": ".py",
   "mimetype": "text/x-python",
   "name": "python",
   "nbconvert_exporter": "python",
   "pygments_lexer": "ipython3",
   "version": "3.7.3"
  },
  "notebookname": "NO HEADING 1 found",
  "version": "1.0"
 },
 "nbformat": 4,
 "nbformat_minor": 1
}
