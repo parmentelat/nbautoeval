{
 "cells": [
  {
   "cell_type": "markdown",
   "metadata": {},
   "source": [
    "<span style=\"float:left;\">Licence CC BY-NC-ND</span><span style=\"float:right;\">Thierry Parmentelat&nbsp;<img src=\"../media/inria-25.png\" style=\"display:inline\"></span><br/>"
   ]
  },
  {
   "cell_type": "markdown",
   "metadata": {},
   "source": [
    "# class-based exercises"
   ]
  },
  {
   "cell_type": "code",
   "execution_count": null,
   "metadata": {},
   "outputs": [],
   "source": [
    "%load_ext autoreload\n",
    "%autoreload 2"
   ]
  },
  {
   "cell_type": "code",
   "execution_count": null,
   "metadata": {},
   "outputs": [],
   "source": [
    "# just so that it runs smoothly under binder\n",
    "import sys\n",
    "sys.path.append(\"..\")"
   ]
  },
  {
   "cell_type": "markdown",
   "metadata": {},
   "source": [
    "## intro"
   ]
  },
  {
   "cell_type": "markdown",
   "metadata": {},
   "source": [
    "creating a class-based exercise currently means:\n",
    "\n",
    "* writing a reference class\n",
    "* defining a suite of *Scenarios*\n",
    "\n",
    "each Scenario in turn means\n",
    "* creating one witness instance, from one `Args` object\n",
    "* run several expressions and/or statements in a context where\n",
    "  * `INSTANCE` is replaced with the witness object, and\n",
    "  * `CLASS` is replaced with the class object under test"
   ]
  },
  {
   "cell_type": "markdown",
   "metadata": {},
   "source": [
    "*****"
   ]
  },
  {
   "cell_type": "markdown",
   "metadata": {},
   "source": [
    "## comparing objects"
   ]
  },
  {
   "cell_type": "markdown",
   "metadata": {},
   "source": [
    "### using `repr()` in constructor and statements\n",
    "\n",
    "for the first step of a class scenario (calling the constructor), as well as for statement steps, the actual result that we get from code evaluation is `None`.  \n",
    "so in these case, in order to check for correctness we **compare both objects `repr()`s**"
   ]
  },
  {
   "cell_type": "markdown",
   "metadata": {},
   "source": [
    "### using `repr()` when expression returns an object\n",
    "\n",
    "similarly, when the scenario expression returns an object (think of the addition of two objects), we cannot compare results using `==` because the two objects (one under reference implementation and one under student implementation) are of different classes and thus would not be considered equal by `==`\n",
    "\n",
    "so in these situations again, the two objects are compared through their `repr()` textual representation."
   ]
  },
  {
   "cell_type": "markdown",
   "metadata": {},
   "source": [
    "### bottom line\n",
    "\n",
    "this all means that students need to pay extra attention to have their `__repr__()` method work exactly as requested, otherwise they get a lot of false negative."
   ]
  },
  {
   "cell_type": "markdown",
   "metadata": {},
   "source": [
    "### known bug with `<>`"
   ]
  },
  {
   "cell_type": "markdown",
   "metadata": {},
   "source": [
    "as of this writing there is a bug in the system, when the `repr()` string contains `<` or `>`\n",
    "\n",
    "it seems like those get interpreted as HTML and won't get displayed.."
   ]
  },
  {
   "cell_type": "markdown",
   "metadata": {},
   "source": [
    "*****"
   ]
  },
  {
   "cell_type": "markdown",
   "metadata": {},
   "source": [
    "## a FIFO"
   ]
  },
  {
   "cell_type": "markdown",
   "metadata": {},
   "source": [
    "This section demonstrates how to run a simple (expressions-only) class scenario.\n",
    "Next section introduces the notion of statements-oriented scenariis, useful typically to deal with properties."
   ]
  },
  {
   "cell_type": "markdown",
   "metadata": {},
   "source": [
    "### Assignment"
   ]
  },
  {
   "cell_type": "markdown",
   "metadata": {},
   "source": [
    "Students are requested to write a `Fifo` class, that implements\n",
    "* a constructor `Fifo()`\n",
    "* an `incoming(obj)` method\n",
    "* an `outgoing()` method\n",
    "\n",
    "that just returns the elements in the same order as they were stored."
   ]
  },
  {
   "cell_type": "markdown",
   "metadata": {},
   "source": [
    "### Workflow"
   ]
  },
  {
   "cell_type": "code",
   "execution_count": null,
   "metadata": {},
   "outputs": [],
   "source": [
    "from exercises.fifoclass import exo_fifo\n",
    "exo_fifo.example()"
   ]
  },
  {
   "cell_type": "markdown",
   "metadata": {},
   "source": [
    "Students are then invited to write their code in a cell that initially could look like this&nbsp;:"
   ]
  },
  {
   "cell_type": "code",
   "execution_count": null,
   "metadata": {},
   "outputs": [],
   "source": [
    "# write your code in this cell\n",
    "class Fifo:\n",
    "    def __init__(self):\n",
    "        pass\n",
    "    def __len__(self):\n",
    "        pass\n",
    "    def incoming(self, obj):\n",
    "        pass\n",
    "    def outgoing(self):\n",
    "        pass"
   ]
  },
  {
   "cell_type": "markdown",
   "metadata": {},
   "source": [
    "Then she changes it, let's imagine the outcome is this attempt - which is broken on purpose&nbsp;:"
   ]
  },
  {
   "cell_type": "code",
   "execution_count": null,
   "metadata": {},
   "outputs": [],
   "source": [
    "# code is BROKEN ON PURPOSE\n",
    "\n",
    "# write your code in this cell\n",
    "class Fifo:\n",
    "    def __init__(self):\n",
    "        self.items = []\n",
    "    def incoming(self, obj):\n",
    "        self.items.append(obj)\n",
    "    def outgoing(self):\n",
    "        if len(self.items)%2 == 0:\n",
    "            raise Exception(f\"even length ->{self.items.pop()}\")\n",
    "        return self.items.pop()\n",
    "    # optioinal for debugging\n",
    "    def __repr__(self):\n",
    "        contents = \" \".join(repr(item) for item in self.items)\n",
    "        return f\"[StudentFifo {contents}]\""
   ]
  },
  {
   "cell_type": "markdown",
   "metadata": {},
   "source": [
    "Then she can evaluate this correction cell"
   ]
  },
  {
   "cell_type": "code",
   "execution_count": null,
   "metadata": {},
   "outputs": [],
   "source": [
    "exo_fifo.correction(Fifo)"
   ]
  },
  {
   "cell_type": "markdown",
   "metadata": {},
   "source": [
    "*********"
   ]
  },
  {
   "cell_type": "markdown",
   "metadata": {},
   "source": [
    "### Under the hood"
   ]
  },
  {
   "cell_type": "markdown",
   "metadata": {},
   "source": [
    "as always, the python code here can be seen below:"
   ]
  },
  {
   "cell_type": "code",
   "execution_count": null,
   "metadata": {},
   "outputs": [],
   "source": [
    "%cat ../exercises/fifoclass.py"
   ]
  },
  {
   "cell_type": "markdown",
   "metadata": {},
   "source": [
    "*****"
   ]
  },
  {
   "cell_type": "markdown",
   "metadata": {},
   "source": [
    "## a property-based class"
   ]
  },
  {
   "cell_type": "markdown",
   "metadata": {},
   "source": [
    "### assignment"
   ]
  },
  {
   "cell_type": "markdown",
   "metadata": {},
   "source": [
    "students are requested to write a `Gauge` class that has a single `x` attribute that is guaranteed to be **between 0 and 100**; any attempt to set it otherwise should result in the attribute being set to 0 or 100, whichever is closest to the intended value."
   ]
  },
  {
   "cell_type": "markdown",
   "metadata": {},
   "source": [
    "### workflow"
   ]
  },
  {
   "cell_type": "markdown",
   "metadata": {},
   "source": [
    "this is quite similar but we need to write **statements** instead of just expressions\n",
    "\n",
    "* statements can be specified by creating a `ClassStep` object with the `statement=True` parameter\n",
    "* statements are run with `exec()` instead of `eval()`, and so it does not make sense to compare the behaviour of the student's class with the reference class; a following expression should be used to check for compliance"
   ]
  },
  {
   "cell_type": "code",
   "execution_count": null,
   "metadata": {},
   "outputs": [],
   "source": [
    "from exercises.gaugeclass import exo_gauge\n",
    "exo_gauge.example()"
   ]
  },
  {
   "cell_type": "code",
   "execution_count": null,
   "metadata": {},
   "outputs": [],
   "source": [
    "# this class is broken too\n",
    "class Gauge:\n",
    "    \n",
    "    def __init__(self, x):\n",
    "        self.x = x\n",
    "        \n",
    "    def __repr__(self):\n",
    "        return f\"{self.x}\""
   ]
  },
  {
   "cell_type": "code",
   "execution_count": null,
   "metadata": {},
   "outputs": [],
   "source": [
    "exo_gauge.correction(Gauge)"
   ]
  },
  {
   "cell_type": "markdown",
   "metadata": {},
   "source": [
    "### under the hood"
   ]
  },
  {
   "cell_type": "code",
   "execution_count": null,
   "metadata": {},
   "outputs": [],
   "source": [
    "!cat ../exercises/gaugeclass.py"
   ]
  }
 ],
 "metadata": {
  "kernelspec": {
   "display_name": "Python 3",
   "language": "python",
   "name": "python3"
  },
  "language_info": {
   "codemirror_mode": {
    "name": "ipython",
    "version": 3
   },
   "file_extension": ".py",
   "mimetype": "text/x-python",
   "name": "python",
   "nbconvert_exporter": "python",
   "pygments_lexer": "ipython3",
   "version": "3.7.3"
  },
  "notebookname": "NO HEADING 1 found",
  "version": "1.0"
 },
 "nbformat": 4,
 "nbformat_minor": 1
}
