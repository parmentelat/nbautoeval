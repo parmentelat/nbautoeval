{
 "cells": [
  {
   "cell_type": "markdown",
   "metadata": {},
   "source": [
    "<span style=\"float:left;\">Licence CC BY-NC-ND</span><span style=\"float:right;\">Thierry Parmentelat&nbsp;<img src=\"../media/inria-25.png\" style=\"display:inline\"></span><br/>"
   ]
  },
  {
   "cell_type": "code",
   "execution_count": null,
   "metadata": {
    "collapsed": true
   },
   "outputs": [],
   "source": [
    "# just so that it runs smoothly under binder\n",
    "import sys\n",
    "sys.path.append(\"..\")"
   ]
  },
  {
   "cell_type": "markdown",
   "metadata": {},
   "source": [
    "# Not limited to functions"
   ]
  },
  {
   "cell_type": "markdown",
   "metadata": {},
   "source": [
    "It is pretty straightforward to use this for checking python objects that are not functions per-se, by defining closure functions that can be passed to the framework. See e.g. the `inconnue` exercise in flotpython."
   ]
  },
  {
   "cell_type": "markdown",
   "metadata": {},
   "source": [
    "# Copying input data"
   ]
  },
  {
   "cell_type": "markdown",
   "metadata": {},
   "source": [
    "One important aspect to keep in mind if you deal with functions that do side effects on their input arguments - which is something that can be part of the requirements.\n",
    "\n",
    "In such a case, the frameork needs to copy the input data, otherwise the student- and teacher-provided functions would not operate on comparable inputs.\n",
    "\n",
    "This is the purpose of the `copy_mode` flag, which by default is 'deep' which means deep copy, it is sometimes useful to use other methods.\n"
   ]
  },
  {
   "cell_type": "markdown",
   "metadata": {},
   "source": [
    "# Tweaking the way things are displayed"
   ]
  },
  {
   "cell_type": "markdown",
   "metadata": {},
   "source": [
    "This is an area where a lot of trials and errors did take place. Not sure that it's right in any way in the current status. In any case check out the arguments that the Exercise constructors know about. Among them&nbsp;:\n",
    "\n",
    "* You can specify in `layout_args` a layout for the 3 columns, specified in character widths.\n",
    "* `layout` defaults to `pprint`, other policies are available as well, you'll need to check in the code\n",
    "* same for `call_layout` which\n",
    "* `render_name` can be set to False to save space in the leftmost column (see example below)\n",
    "* `nb_examples` says how may examples should be shown (datasets used in order from index 0, of course). This can be superseded in the call to `example` too\n"
   ]
  },
  {
   "cell_type": "markdown",
   "metadata": {},
   "source": [
    "##### Example with and without `render_name`"
   ]
  },
  {
   "cell_type": "markdown",
   "metadata": {},
   "source": [
    "Defining an `ExerciseFunction` with `render_name=False` will cause a slightly different output, in an attempt to save space."
   ]
  },
  {
   "cell_type": "code",
   "execution_count": null,
   "metadata": {
    "collapsed": false
   },
   "outputs": [],
   "source": [
    "def curve(a, b, c=12): \n",
    "    # make it work only when a==b\n",
    "    return a ** 2 + 3 * a * b + c + (a - b)\n"
   ]
  },
  {
   "cell_type": "code",
   "execution_count": null,
   "metadata": {
    "collapsed": false
   },
   "outputs": [],
   "source": [
    "# the default is to display the function name in 1st column\n",
    "from exercises.curve import exo_curve\n",
    "exo_curve.correction(curve)"
   ]
  },
  {
   "cell_type": "code",
   "execution_count": null,
   "metadata": {
    "collapsed": false
   },
   "outputs": [],
   "source": [
    "# this Exercise instance has render_name = False\n",
    "from exercises.curve import exo_curve_noname\n",
    "exo_curve_noname.correction(curve)"
   ]
  }
 ],
 "metadata": {
  "kernelspec": {
   "display_name": "Python 3",
   "language": "python",
   "name": "python3"
  },
  "language_info": {
   "codemirror_mode": {
    "name": "ipython",
    "version": 3
   },
   "file_extension": ".py",
   "mimetype": "text/x-python",
   "name": "python",
   "nbconvert_exporter": "python",
   "pygments_lexer": "ipython3",
   "version": "3.5.2"
  },
  "notebookname": "Not limited to functions",
  "version": "1.0"
 },
 "nbformat": 4,
 "nbformat_minor": 0
}